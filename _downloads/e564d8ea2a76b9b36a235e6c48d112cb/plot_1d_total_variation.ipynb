{
  "cells": [
    {
      "cell_type": "code",
      "execution_count": null,
      "metadata": {
        "collapsed": false
      },
      "outputs": [],
      "source": [
        "%matplotlib inline"
      ]
    },
    {
      "cell_type": "markdown",
      "metadata": {},
      "source": [
        "\n# Signal recovery by 1D total variation\n\nIn this example, we generate a signal that is piecewise constant. We then\nobserve some random and corrupted measurements from that signal and\nthen try to recover that signal using L1 and 1D total variation (TV1D) penalties.\n\nGiven a ground truth vectors, the signal that we observe is given by\n\n     y = sign(X ground_truth + noise)\n\nwhere X is a random matrix. We obtain the vector ground_truth by solving\nan optimization problem using lightning's :class:`lightning.classification.FistaClassifier`.\n\nThe 1D total variation is also known as fused lasso.\n"
      ]
    },
    {
      "cell_type": "code",
      "execution_count": null,
      "metadata": {
        "collapsed": false
      },
      "outputs": [],
      "source": [
        "# Author: Fabian Pedregosa <f@bianp.net>\n\nimport numpy as np\nimport matplotlib.pyplot as plt\nfrom lightning.classification import FistaClassifier\nfrom sklearn.model_selection import GridSearchCV\n\n# generate some synthetic data\nn_samples = 200\nground_truth = np.concatenate((\n    np.ones(20), - np.ones(20), np.zeros(40)))\nn_features = ground_truth.size\nnp.random.seed(0)  # for reproducibility\nX = np.random.rand(n_samples, n_features)\n# generate y as a linear model, y = sign(X w + noise)\ny = np.sign(X.dot(ground_truth) + 0.5 * np.random.randn(n_samples)).astype(int)\n\n\nfor penalty in ('l1', 'tv1d'):\n    clf = FistaClassifier(penalty=penalty)\n    gs = GridSearchCV(clf, {'alpha': np.logspace(-3, 3, 10)})\n    gs.fit(X, y)\n    coefs = gs.best_estimator_.coef_\n    plt.plot(coefs.ravel(), label='%s penalty' % penalty, lw=3)\n\nplt.plot(ground_truth, lw=3, marker='^', markevery=5, markersize=10, label=\"ground truth\")\nplt.grid()\nplt.legend()\nplt.ylim((-1.5, 1.5))\nplt.show()"
      ]
    }
  ],
  "metadata": {
    "kernelspec": {
      "display_name": "Python 3",
      "language": "python",
      "name": "python3"
    },
    "language_info": {
      "codemirror_mode": {
        "name": "ipython",
        "version": 3
      },
      "file_extension": ".py",
      "mimetype": "text/x-python",
      "name": "python",
      "nbconvert_exporter": "python",
      "pygments_lexer": "ipython3",
      "version": "3.9.5"
    }
  },
  "nbformat": 4,
  "nbformat_minor": 0
}
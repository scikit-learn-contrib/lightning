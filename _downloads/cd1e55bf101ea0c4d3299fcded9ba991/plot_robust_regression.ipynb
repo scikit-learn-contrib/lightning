{
  "cells": [
    {
      "cell_type": "code",
      "execution_count": null,
      "metadata": {
        "collapsed": false
      },
      "outputs": [],
      "source": [
        "%matplotlib inline"
      ]
    },
    {
      "cell_type": "markdown",
      "metadata": {},
      "source": [
        "\n# Robust regression\n"
      ]
    },
    {
      "cell_type": "code",
      "execution_count": null,
      "metadata": {
        "collapsed": false
      },
      "outputs": [],
      "source": [
        "print(__doc__)\n\nimport numpy as np\nimport pylab as pl\n\nfrom sklearn.datasets import make_regression\nfrom sklearn.utils import check_random_state\nfrom sklearn.linear_model import Ridge\n\nfrom lightning.regression import LinearSVR\n\n# Generate regression data.\nX_train, y_train = make_regression(n_samples=15, n_features=1,\n                                   n_informative=1, random_state=0)\n\n# Add noise.\nrs = check_random_state(0)\ny_train += rs.normal(np.std(y_train), size=X_train.shape[0])\n# Add an outlier.\ny_train[5] *= 5\n\nX_test = np.linspace(-5, 5, 100).reshape(-1, 1)\n\npl.figure()\npl.scatter(X_train.ravel(), y_train)\n\nreg = Ridge(alpha=1e-1)\nreg.fit(X_train, y_train)\npl.plot(X_test.ravel(), reg.predict(X_test), label=\"Ridge\")\n\n# LinearSVR is equivalent to absolute-loss regression (robust regression)\n# when epsilon=0.\nreg = LinearSVR(C=10, epsilon=0, fit_intercept=True, random_state=0)\nreg.fit(X_train, y_train)\npl.plot(X_test.ravel(), reg.predict(X_test), label=\"Robust\")\n\npl.legend(loc=\"upper left\")\n\npl.show()"
      ]
    }
  ],
  "metadata": {
    "kernelspec": {
      "display_name": "Python 3",
      "language": "python",
      "name": "python3"
    },
    "language_info": {
      "codemirror_mode": {
        "name": "ipython",
        "version": 3
      },
      "file_extension": ".py",
      "mimetype": "text/x-python",
      "name": "python",
      "nbconvert_exporter": "python",
      "pygments_lexer": "ipython3",
      "version": "3.9.5"
    }
  },
  "nbformat": 4,
  "nbformat_minor": 0
}
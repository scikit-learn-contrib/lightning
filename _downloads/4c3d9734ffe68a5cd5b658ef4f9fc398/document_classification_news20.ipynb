{
  "cells": [
    {
      "cell_type": "code",
      "execution_count": null,
      "metadata": {
        "collapsed": false
      },
      "outputs": [],
      "source": [
        "%matplotlib inline"
      ]
    },
    {
      "cell_type": "markdown",
      "metadata": {},
      "source": [
        "\n# Classification of text documents\n"
      ]
    },
    {
      "cell_type": "code",
      "execution_count": null,
      "metadata": {
        "collapsed": false
      },
      "outputs": [],
      "source": [
        "import numpy as np\n\nfrom sklearn.datasets import fetch_20newsgroups_vectorized\n\ntry:\n    from sklearn.model_selection import train_test_split\nexcept ImportError:\n    from sklearn.cross_validation import train_test_split\n    \nfrom lightning.classification import CDClassifier\nfrom lightning.classification import LinearSVC\nfrom lightning.classification import SGDClassifier\n\n# Load News20 dataset from scikit-learn.\nbunch = fetch_20newsgroups_vectorized(subset=\"all\")\nX = bunch.data\ny = bunch.target\n\n# Select a subset of the classes for faster training.\nind = np.arange(X.shape[0])\nsubset = y < 5\nX = X[ind[subset]]\ny = y[subset]\n\n# Train / test split.\nX_tr, X_te, y_tr, y_te = train_test_split(X, y,\n                                          train_size=0.75,\n                                          test_size=0.25,\n                                          random_state=0)\n\nclfs = (CDClassifier(loss=\"squared_hinge\",\n                     penalty=\"l2\",\n                     max_iter=20,\n                     random_state=0),\n\n        LinearSVC(max_iter=20,\n                  random_state=0),\n\n        SGDClassifier(learning_rate=\"constant\",\n                      alpha=1e-3,\n                      max_iter=20,\n                      random_state=0))\n\nfor clf in clfs:\n    print(clf.__class__.__name__)\n    clf.fit(X_tr, y_tr)\n    print(clf.score(X_te, y_te))"
      ]
    }
  ],
  "metadata": {
    "kernelspec": {
      "display_name": "Python 3",
      "language": "python",
      "name": "python3"
    },
    "language_info": {
      "codemirror_mode": {
        "name": "ipython",
        "version": 3
      },
      "file_extension": ".py",
      "mimetype": "text/x-python",
      "name": "python",
      "nbconvert_exporter": "python",
      "pygments_lexer": "ipython3",
      "version": "3.9.5"
    }
  },
  "nbformat": 4,
  "nbformat_minor": 0
}
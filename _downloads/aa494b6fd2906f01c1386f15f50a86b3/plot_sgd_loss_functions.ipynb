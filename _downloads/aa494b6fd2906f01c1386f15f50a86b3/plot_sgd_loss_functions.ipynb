{
  "cells": [
    {
      "cell_type": "code",
      "execution_count": null,
      "metadata": {
        "collapsed": false
      },
      "outputs": [],
      "source": [
        "%matplotlib inline"
      ]
    },
    {
      "cell_type": "markdown",
      "metadata": {},
      "source": [
        "\n# SGD: Convex Loss Functions\n"
      ]
    },
    {
      "cell_type": "code",
      "execution_count": null,
      "metadata": {
        "collapsed": false
      },
      "outputs": [],
      "source": [
        "print(__doc__)\n\nimport numpy as np\nimport pylab as pl\nfrom lightning.impl.sgd import Hinge\nfrom lightning.impl.sgd import SquaredHinge\nfrom lightning.impl.sgd import Log\nfrom lightning.impl.sgd import SquaredLoss"
      ]
    },
    {
      "cell_type": "markdown",
      "metadata": {},
      "source": [
        "Define loss funcitons\n\n"
      ]
    },
    {
      "cell_type": "code",
      "execution_count": null,
      "metadata": {
        "collapsed": false
      },
      "outputs": [],
      "source": [
        "xmin, xmax = -3, 3\nhinge = Hinge(1)\nsquared_hinge = SquaredHinge()\nlog = Log()\nsquared_loss = SquaredLoss()"
      ]
    },
    {
      "cell_type": "markdown",
      "metadata": {},
      "source": [
        "Plot loss funcitons\n\n"
      ]
    },
    {
      "cell_type": "code",
      "execution_count": null,
      "metadata": {
        "collapsed": false
      },
      "outputs": [],
      "source": [
        "xx = np.linspace(xmin, xmax, 100)\npl.plot([xmin, 0, 0, xmax], [1, 1, 0, 0], 'k-',\n        label=\"Zero-one loss\")\npl.plot(xx, [hinge.loss(x, 1) for x in xx], 'g-',\n        label=\"Hinge loss\")\npl.plot(xx, [squared_hinge.loss(x, 1) for x in xx], 'b--',\n        label=\"Squared hinge loss\", zorder=3)\npl.plot(xx, [log.loss(x, 1) for x in xx], 'r-',\n        label=\"Log loss\")\npl.plot(xx, [2.0*squared_loss.loss(x, 1) for x in xx], 'c-',\n       label=\"Squared loss\")\npl.ylim((0, 5))\npl.legend(loc=\"upper right\")\npl.xlabel(r\"$y \\cdot f(x)$\")\npl.ylabel(\"$L(y, f(x))$\")\npl.show()"
      ]
    }
  ],
  "metadata": {
    "kernelspec": {
      "display_name": "Python 3",
      "language": "python",
      "name": "python3"
    },
    "language_info": {
      "codemirror_mode": {
        "name": "ipython",
        "version": 3
      },
      "file_extension": ".py",
      "mimetype": "text/x-python",
      "name": "python",
      "nbconvert_exporter": "python",
      "pygments_lexer": "ipython3",
      "version": "3.9.5"
    }
  },
  "nbformat": 4,
  "nbformat_minor": 0
}
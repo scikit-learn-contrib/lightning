{
  "cells": [
    {
      "cell_type": "code",
      "execution_count": null,
      "metadata": {
        "collapsed": false
      },
      "outputs": [],
      "source": [
        "%matplotlib inline"
      ]
    },
    {
      "cell_type": "markdown",
      "metadata": {},
      "source": [
        "\n# Trace norm\n"
      ]
    },
    {
      "cell_type": "code",
      "execution_count": null,
      "metadata": {
        "collapsed": false
      },
      "outputs": [],
      "source": [
        "print(__doc__)\nimport numpy as np\nfrom scipy.linalg import svd\n\nfrom sklearn.datasets import fetch_20newsgroups_vectorized\nfrom sklearn.feature_selection import SelectKBest, chi2\n\nfrom lightning.classification import FistaClassifier\n\ndef rank(M, eps=1e-9):\n    U, s, V = svd(M, full_matrices=False)\n    return np.sum(s > eps)\n\n\nbunch = fetch_20newsgroups_vectorized(subset=\"train\")\nX_train = bunch.data\ny_train = bunch.target\n\n# Reduces dimensionality to make the example faster\nch2 = SelectKBest(chi2, k=5000)\nX_train = ch2.fit_transform(X_train, y_train)\n\nbunch = fetch_20newsgroups_vectorized(subset=\"test\")\nX_test = bunch.data\ny_test = bunch.target\nX_test = ch2.transform(X_test)\n\nclf = FistaClassifier(C=1.0 / X_train.shape[0],\n                      max_iter=200,\n                      penalty=\"trace\",\n                      multiclass=True)\n\nfor alpha in (1e-3, 1e-2, 0.1, 0.2, 0.3):\n    print(\"alpha=\", alpha)\n    clf.alpha = alpha\n    clf.fit(X_train, y_train)\n    print(clf.score(X_test, y_test))\n    print(rank(clf.coef_))"
      ]
    }
  ],
  "metadata": {
    "kernelspec": {
      "display_name": "Python 3",
      "language": "python",
      "name": "python3"
    },
    "language_info": {
      "codemirror_mode": {
        "name": "ipython",
        "version": 3
      },
      "file_extension": ".py",
      "mimetype": "text/x-python",
      "name": "python",
      "nbconvert_exporter": "python",
      "pygments_lexer": "ipython3",
      "version": "3.9.5"
    }
  },
  "nbformat": 4,
  "nbformat_minor": 0
}
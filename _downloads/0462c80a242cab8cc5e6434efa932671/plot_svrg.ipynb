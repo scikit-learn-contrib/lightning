{
  "cells": [
    {
      "cell_type": "code",
      "execution_count": null,
      "metadata": {
        "collapsed": false
      },
      "outputs": [],
      "source": [
        "%matplotlib inline"
      ]
    },
    {
      "cell_type": "markdown",
      "metadata": {},
      "source": [
        "\n# Sensitivity to hyper-parameters in SVRG\n\nThis example shows the sensitivity of SVRG with respect\nto different hyperparameters.\n"
      ]
    },
    {
      "cell_type": "code",
      "execution_count": null,
      "metadata": {
        "collapsed": false
      },
      "outputs": [],
      "source": [
        "print(__doc__)\n\nimport sys\nimport time\n\nimport numpy as np\nimport matplotlib.pyplot as plt\n\nfrom sklearn.datasets import make_classification\nfrom sklearn.datasets import fetch_20newsgroups_vectorized\n\nfrom lightning.classification import SVRGClassifier\n\n\nclass Callback(object):\n\n    def __init__(self, X, y):\n        self.X = X\n        self.y = y\n        self.obj = []\n        self.times = []\n        self.start_time = time.time()\n        self.test_time = 0\n\n    def __call__(self, clf):\n        test_time = time.time()\n        clf._finalize_coef()\n        y_pred = clf.decision_function(self.X).ravel()\n        loss = (np.maximum(1 - self.y * y_pred, 0) ** 2).mean()\n        coef = clf.coef_.ravel()\n        regul = 0.5 * clf.alpha * np.dot(coef, coef)\n        self.obj.append(loss + regul)\n        self.test_time += time.time() - test_time\n        self.times.append(time.time() -  self.start_time - self.test_time)\n\ntry:\n    dataset = sys.argv[1]\nexcept:\n    dataset = \"synthetic\"\n\nif dataset == \"news20\":\n    bunch = fetch_20newsgroups_vectorized(subset=\"all\")\n    X = bunch.data\n    y = bunch.target\n    y[y >= 1] = 1\n\n    etas = (0.5, 1e-1, 1e-2)\n    n_inners = (1.0, 2.0, 3.0)\nelse:\n    X, y = make_classification(n_samples=10000,\n                               n_features=100,\n                               n_classes=2,\n                               random_state=0)\n    etas = (1e-3, 1e-4, 1e-5)\n    n_inners = (0.25, 0.5, 1.0, 1.5)\n\ny = y * 2 - 1\n\n\nplt.figure()\n\nfor eta in etas:\n    print(\"eta =\", eta)\n    cb = Callback(X, y)\n    clf = SVRGClassifier(loss=\"squared_hinge\", alpha=1e-5, eta=eta,\n                         n_inner=1.0, max_iter=20, random_state=0, callback=cb)\n    clf.fit(X, y)\n    plt.plot(cb.times, cb.obj, label=\"eta=\" + str(eta))\n\nplt.xlabel(\"CPU time\")\nplt.ylabel(\"Objective value\")\nplt.legend()\n\nplt.figure()\n\nfor n_inner in n_inners:\n    print(\"n_inner =\", n_inner)\n    cb = Callback(X, y)\n    clf = SVRGClassifier(loss=\"squared_hinge\", alpha=1e-5, eta=1e-4,\n                         n_inner=n_inner, max_iter=20, random_state=0,\n                         callback=cb)\n    clf.fit(X, y)\n    plt.plot(cb.times, cb.obj, label=\"n_inner=\" + str(n_inner))\n\nplt.xlabel(\"CPU time\")\nplt.ylabel(\"Objective value\")\nplt.legend()\n\nplt.show()"
      ]
    }
  ],
  "metadata": {
    "kernelspec": {
      "display_name": "Python 3",
      "language": "python",
      "name": "python3"
    },
    "language_info": {
      "codemirror_mode": {
        "name": "ipython",
        "version": 3
      },
      "file_extension": ".py",
      "mimetype": "text/x-python",
      "name": "python",
      "nbconvert_exporter": "python",
      "pygments_lexer": "ipython3",
      "version": "3.9.5"
    }
  },
  "nbformat": 4,
  "nbformat_minor": 0
}